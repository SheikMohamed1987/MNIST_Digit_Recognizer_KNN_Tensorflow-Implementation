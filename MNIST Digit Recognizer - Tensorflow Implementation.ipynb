{
 "cells": [
  {
   "cell_type": "code",
   "execution_count": 256,
   "metadata": {},
   "outputs": [
    {
     "name": "stdout",
     "output_type": "stream",
     "text": [
      "Extracting MNIST_data/train-images-idx3-ubyte.gz\n",
      "Extracting MNIST_data/train-labels-idx1-ubyte.gz\n",
      "Extracting MNIST_data/t10k-images-idx3-ubyte.gz\n",
      "Extracting MNIST_data/t10k-labels-idx1-ubyte.gz\n"
     ]
    }
   ],
   "source": [
    "from tensorflow.examples.tutorials.mnist import input_data\n",
    "mnist = input_data.read_data_sets(\"MNIST_data/\")"
   ]
  },
  {
   "cell_type": "code",
   "execution_count": 257,
   "metadata": {},
   "outputs": [],
   "source": [
    "import numpy as np\n",
    "import tensorflow as tf\n",
    "import matplotlib.pyplot as plt\n",
    "%matplotlib inline"
   ]
  },
  {
   "cell_type": "code",
   "execution_count": 258,
   "metadata": {},
   "outputs": [],
   "source": [
    "def display_digit(digit):\n",
    "    plt.figure(figsize=(4,4))\n",
    "    plt.imshow(digit.reshape(28,28),cmap=\"Greys\",interpolation=\"nearest\")"
   ]
  },
  {
   "cell_type": "code",
   "execution_count": 309,
   "metadata": {},
   "outputs": [],
   "source": [
    "training_digits, training_labels = mnist.train.next_batch(55000)\n",
    "test_digits, test_labels = mnist.test.next_batch(100)"
   ]
  },
  {
   "cell_type": "code",
   "execution_count": 310,
   "metadata": {},
   "outputs": [
    {
     "data": {
      "text/plain": [
       "(55000, 784)"
      ]
     },
     "execution_count": 310,
     "metadata": {},
     "output_type": "execute_result"
    }
   ],
   "source": [
    "training_digits_full = mnist.train.images\n",
    "training_digits_full.shape"
   ]
  },
  {
   "cell_type": "code",
   "execution_count": 311,
   "metadata": {},
   "outputs": [
    {
     "data": {
      "text/plain": [
       "(10000, 784)"
      ]
     },
     "execution_count": 311,
     "metadata": {},
     "output_type": "execute_result"
    }
   ],
   "source": [
    "test_digits_full = mnist.test.images\n",
    "test_digits_full.shape"
   ]
  },
  {
   "cell_type": "code",
   "execution_count": 312,
   "metadata": {},
   "outputs": [
    {
     "data": {
      "image/png": "[encoded data removed]",
      "text/plain": [
       "<Figure size 288x288 with 1 Axes>"
      ]
     },
     "metadata": {},
     "output_type": "display_data"
    }
   ],
   "source": [
    "display_digit(training_digits[10])"
   ]
  },
  {
   "cell_type": "markdown",
   "metadata": {},
   "source": [
    "# TensorFlow Computation Graph "
   ]
  },
  {
   "cell_type": "code",
   "execution_count": 313,
   "metadata": {},
   "outputs": [],
   "source": [
    "tf.reset_default_graph()"
   ]
  },
  {
   "cell_type": "code",
   "execution_count": 314,
   "metadata": {},
   "outputs": [],
   "source": [
    "training_digit_pl = tf.placeholder(\"float\",[None,784])\n",
    "test_digit_pl = tf.placeholder(\"float\",[784])"
   ]
  },
  {
   "cell_type": "code",
   "execution_count": 315,
   "metadata": {},
   "outputs": [],
   "source": [
    "from numpy import array\n",
    "def get_majority_predicted_label(labels, indices):\n",
    "    \n",
    "    predicted_labels=[]\n",
    "    for i in indices:\n",
    "        predicted_labels.append(labels[i])   \n",
    "    \n",
    "    predicted_labels_np = array(predicted_labels)\n",
    "    print(predicted_labels_np)\n",
    "    \n",
    "    counts = np.bincount(predicted_labels)\n",
    "    return np.argmax(counts)\n",
    "    "
   ]
  },
  {
   "cell_type": "code",
   "execution_count": 316,
   "metadata": {},
   "outputs": [],
   "source": [
    "l1_distance = tf.abs(tf.subtract(training_digit_pl,test_digit_pl))\n",
    "\n",
    "distance_l1 = tf.reduce_sum(l1_distance, axis=1)\n"
   ]
  },
  {
   "cell_type": "markdown",
   "metadata": {},
   "source": [
    "# KNN Algorithm - Tensorflow Implementation"
   ]
  },
  {
   "cell_type": "code",
   "execution_count": 317,
   "metadata": {},
   "outputs": [],
   "source": [
    "pred_KNN_l1 = tf.nn.top_k(tf.negative(distance_l1),k=1)"
   ]
  },
  {
   "cell_type": "code",
   "execution_count": 318,
   "metadata": {},
   "outputs": [],
   "source": [
    "accuracy = 0.\n",
    "init = tf.global_variables_initializer()"
   ]
  },
  {
   "cell_type": "code",
   "execution_count": 319,
   "metadata": {},
   "outputs": [
    {
     "name": "stdout",
     "output_type": "stream",
     "text": [
      "(1,)\n",
      "[0]\n",
      "test 0 prediction: 0 True_label 0\n",
      "(1,)\n",
      "[5]\n",
      "test 1 prediction: 5 True_label 5\n",
      "(1,)\n",
      "[3]\n",
      "test 2 prediction: 3 True_label 3\n",
      "(1,)\n",
      "[5]\n",
      "test 3 prediction: 5 True_label 5\n",
      "(1,)\n",
      "[3]\n",
      "test 4 prediction: 3 True_label 3\n",
      "(1,)\n",
      "[7]\n",
      "test 5 prediction: 7 True_label 7\n",
      "(1,)\n",
      "[3]\n",
      "test 6 prediction: 3 True_label 3\n",
      "(1,)\n",
      "[0]\n",
      "test 7 prediction: 0 True_label 0\n",
      "(1,)\n",
      "[4]\n",
      "test 8 prediction: 4 True_label 1\n",
      "(1,)\n",
      "[9]\n",
      "test 9 prediction: 9 True_label 9\n",
      "(1,)\n",
      "[3]\n",
      "test 10 prediction: 3 True_label 3\n",
      "(1,)\n",
      "[5]\n",
      "test 11 prediction: 5 True_label 5\n",
      "(1,)\n",
      "[9]\n",
      "test 12 prediction: 9 True_label 9\n",
      "(1,)\n",
      "[1]\n",
      "test 13 prediction: 1 True_label 1\n",
      "(1,)\n",
      "[1]\n",
      "test 14 prediction: 1 True_label 1\n",
      "(1,)\n",
      "[0]\n",
      "test 15 prediction: 0 True_label 0\n",
      "(1,)\n",
      "[1]\n",
      "test 16 prediction: 1 True_label 1\n",
      "(1,)\n",
      "[9]\n",
      "test 17 prediction: 9 True_label 5\n",
      "(1,)\n",
      "[2]\n",
      "test 18 prediction: 2 True_label 2\n",
      "(1,)\n",
      "[6]\n",
      "test 19 prediction: 6 True_label 6\n",
      "(1,)\n",
      "[2]\n",
      "test 20 prediction: 2 True_label 2\n",
      "(1,)\n",
      "[9]\n",
      "test 21 prediction: 9 True_label 9\n",
      "(1,)\n",
      "[8]\n",
      "test 22 prediction: 8 True_label 8\n",
      "(1,)\n",
      "[3]\n",
      "test 23 prediction: 3 True_label 3\n",
      "(1,)\n",
      "[1]\n",
      "test 24 prediction: 1 True_label 1\n",
      "(1,)\n",
      "[9]\n",
      "test 25 prediction: 9 True_label 9\n",
      "(1,)\n",
      "[6]\n",
      "test 26 prediction: 6 True_label 6\n",
      "(1,)\n",
      "[1]\n",
      "test 27 prediction: 1 True_label 1\n",
      "(1,)\n",
      "[3]\n",
      "test 28 prediction: 3 True_label 3\n",
      "(1,)\n",
      "[6]\n",
      "test 29 prediction: 6 True_label 6\n",
      "(1,)\n",
      "[0]\n",
      "test 30 prediction: 0 True_label 0\n",
      "(1,)\n",
      "[7]\n",
      "test 31 prediction: 7 True_label 7\n",
      "(1,)\n",
      "[0]\n",
      "test 32 prediction: 0 True_label 0\n",
      "(1,)\n",
      "[5]\n",
      "test 33 prediction: 5 True_label 5\n",
      "(1,)\n",
      "[4]\n",
      "test 34 prediction: 4 True_label 4\n",
      "(1,)\n",
      "[9]\n",
      "test 35 prediction: 9 True_label 9\n",
      "(1,)\n",
      "[5]\n",
      "test 36 prediction: 5 True_label 5\n",
      "(1,)\n",
      "[0]\n",
      "test 37 prediction: 0 True_label 0\n",
      "(1,)\n",
      "[4]\n",
      "test 38 prediction: 4 True_label 4\n",
      "(1,)\n",
      "[3]\n",
      "test 39 prediction: 3 True_label 3\n",
      "(1,)\n",
      "[9]\n",
      "test 40 prediction: 9 True_label 9\n",
      "(1,)\n",
      "[0]\n",
      "test 41 prediction: 0 True_label 0\n",
      "(1,)\n",
      "[0]\n",
      "test 42 prediction: 0 True_label 0\n",
      "(1,)\n",
      "[2]\n",
      "test 43 prediction: 2 True_label 2\n",
      "(1,)\n",
      "[1]\n",
      "test 44 prediction: 1 True_label 1\n",
      "(1,)\n",
      "[0]\n",
      "test 45 prediction: 0 True_label 0\n",
      "(1,)\n",
      "[7]\n",
      "test 46 prediction: 7 True_label 7\n",
      "(1,)\n",
      "[2]\n",
      "test 47 prediction: 2 True_label 2\n",
      "(1,)\n",
      "[0]\n",
      "test 48 prediction: 0 True_label 0\n",
      "(1,)\n",
      "[5]\n",
      "test 49 prediction: 5 True_label 5\n",
      "(1,)\n",
      "[4]\n",
      "test 50 prediction: 4 True_label 4\n",
      "(1,)\n",
      "[5]\n",
      "test 51 prediction: 5 True_label 5\n",
      "(1,)\n",
      "[9]\n",
      "test 52 prediction: 9 True_label 9\n",
      "(1,)\n",
      "[3]\n",
      "test 53 prediction: 3 True_label 3\n",
      "(1,)\n",
      "[6]\n",
      "test 54 prediction: 6 True_label 6\n",
      "(1,)\n",
      "[1]\n",
      "test 55 prediction: 1 True_label 1\n",
      "(1,)\n",
      "[5]\n",
      "test 56 prediction: 5 True_label 5\n",
      "(1,)\n",
      "[0]\n",
      "test 57 prediction: 0 True_label 0\n",
      "(1,)\n",
      "[3]\n",
      "test 58 prediction: 3 True_label 3\n",
      "(1,)\n",
      "[6]\n",
      "test 59 prediction: 6 True_label 6\n",
      "(1,)\n",
      "[7]\n",
      "test 60 prediction: 7 True_label 7\n",
      "(1,)\n",
      "[8]\n",
      "test 61 prediction: 8 True_label 8\n",
      "(1,)\n",
      "[3]\n",
      "test 62 prediction: 3 True_label 3\n",
      "(1,)\n",
      "[9]\n",
      "test 63 prediction: 9 True_label 9\n",
      "(1,)\n",
      "[2]\n",
      "test 64 prediction: 2 True_label 2\n",
      "(1,)\n",
      "[2]\n",
      "test 65 prediction: 2 True_label 2\n",
      "(1,)\n",
      "[7]\n",
      "test 66 prediction: 7 True_label 7\n",
      "(1,)\n",
      "[1]\n",
      "test 67 prediction: 1 True_label 1\n",
      "(1,)\n",
      "[5]\n",
      "test 68 prediction: 5 True_label 5\n",
      "(1,)\n",
      "[5]\n",
      "test 69 prediction: 5 True_label 5\n",
      "(1,)\n",
      "[0]\n",
      "test 70 prediction: 0 True_label 0\n",
      "(1,)\n",
      "[5]\n",
      "test 71 prediction: 5 True_label 5\n",
      "(1,)\n",
      "[3]\n",
      "test 72 prediction: 3 True_label 3\n",
      "(1,)\n",
      "[6]\n",
      "test 73 prediction: 6 True_label 6\n",
      "(1,)\n",
      "[8]\n",
      "test 74 prediction: 8 True_label 8\n",
      "(1,)\n",
      "[1]\n",
      "test 75 prediction: 1 True_label 1\n",
      "(1,)\n",
      "[0]\n",
      "test 76 prediction: 0 True_label 0\n",
      "(1,)\n",
      "[5]\n",
      "test 77 prediction: 5 True_label 5\n",
      "(1,)\n",
      "[0]\n",
      "test 78 prediction: 0 True_label 0\n",
      "(1,)\n",
      "[2]\n",
      "test 79 prediction: 2 True_label 2\n",
      "(1,)\n",
      "[4]\n",
      "test 80 prediction: 4 True_label 4\n",
      "(1,)\n",
      "[9]\n",
      "test 81 prediction: 9 True_label 9\n",
      "(1,)\n",
      "[9]\n",
      "test 82 prediction: 9 True_label 9\n",
      "(1,)\n",
      "[7]\n",
      "test 83 prediction: 7 True_label 7\n",
      "(1,)\n",
      "[1]\n",
      "test 84 prediction: 1 True_label 1\n",
      "(1,)\n",
      "[4]\n",
      "test 85 prediction: 4 True_label 4\n",
      "(1,)\n",
      "[6]\n",
      "test 86 prediction: 6 True_label 6\n",
      "(1,)\n",
      "[0]\n",
      "test 87 prediction: 0 True_label 0\n",
      "(1,)\n",
      "[2]\n",
      "test 88 prediction: 2 True_label 2\n",
      "(1,)\n",
      "[6]\n",
      "test 89 prediction: 6 True_label 6\n",
      "(1,)\n",
      "[2]\n",
      "test 90 prediction: 2 True_label 2\n",
      "(1,)\n",
      "[9]\n",
      "test 91 prediction: 9 True_label 9\n",
      "(1,)\n",
      "[1]\n",
      "test 92 prediction: 1 True_label 1\n",
      "(1,)\n",
      "[2]\n",
      "test 93 prediction: 2 True_label 2\n",
      "(1,)\n",
      "[3]\n",
      "test 94 prediction: 3 True_label 3\n",
      "(1,)\n",
      "[9]\n",
      "test 95 prediction: 9 True_label 9\n",
      "(1,)\n",
      "[9]\n",
      "test 96 prediction: 9 True_label 9\n",
      "(1,)\n",
      "[4]\n",
      "test 97 prediction: 4 True_label 4\n",
      "(1,)\n",
      "[9]\n",
      "test 98 prediction: 9 True_label 9\n",
      "(1,)\n",
      "[8]\n",
      "test 99 prediction: 8 True_label 8\n",
      "Done!\n",
      "Accuracy: 0.9800000000000006\n"
     ]
    }
   ],
   "source": [
    "    sess = tf.Session() \n",
    "    sess.run(init)\n",
    "    \n",
    "    for i in range(len(test_digits)):\n",
    "        \n",
    "        _,indices = sess.run(pred_KNN_l1,\n",
    "                             feed_dict = {training_digit_pl:training_digits,\n",
    "                                          test_digit_pl: test_digits[i,:]})\n",
    "        \n",
    "        print(indices.shape)\n",
    "        predicted_label = get_majority_predicted_label(training_labels,indices)\n",
    "        \n",
    "        print(\"test\",i,\"prediction:\",predicted_label,\n",
    "                \"True_label\",test_labels[i])\n",
    "        \n",
    "        if predicted_label == test_labels[i]:\n",
    "            accuracy += 1./len(test_digits)\n",
    "            \n",
    "print(\"Done!\")\n",
    "print(\"Accuracy:\", accuracy)"
   ]
  },
  {
   "cell_type": "code",
   "execution_count": null,
   "metadata": {},
   "outputs": [],
   "source": []
  },
  {
   "cell_type": "code",
   "execution_count": null,
   "metadata": {},
   "outputs": [],
   "source": []
  }
 ],
 "metadata": {
  "kernelspec": {
   "display_name": "Python 3",
   "language": "python",
   "name": "python3"
  },
  "language_info": {
   "codemirror_mode": {
    "name": "ipython",
    "version": 3
   },
   "file_extension": ".py",
   "mimetype": "text/x-python",
   "name": "python",
   "nbconvert_exporter": "python",
   "pygments_lexer": "ipython3",
   "version": "3.5.5"
  }
 },
 "nbformat": 4,
 "nbformat_minor": 2
}
